{
 "cells": [
  {
   "cell_type": "code",
   "execution_count": 1,
   "id": "937641ee",
   "metadata": {},
   "outputs": [],
   "source": [
    "import pandas as pd\n",
    "import numpy as np\n",
    "import matplotlib.pyplot as plt\n",
    "from sklearn import datasets\n",
    "from sklearn.model_selection import train_test_split\n",
    "from sklearn.linear_model import LinearRegression"
   ]
  },
  {
   "cell_type": "code",
   "execution_count": 2,
   "id": "dbbdb315",
   "metadata": {},
   "outputs": [],
   "source": [
    "df = pd.read_csv('D:/Employee.csv')"
   ]
  },
  {
   "cell_type": "code",
   "execution_count": 4,
   "id": "58b605fb",
   "metadata": {},
   "outputs": [
    {
     "data": {
      "text/plain": [
       "Index(['Age', 'Attrition', 'BusinessTravel', 'DailyRate', 'Department',\n",
       "       'DistanceFromHome', 'Education', 'EducationField', 'EmployeeCount',\n",
       "       'EmployeeNumber', 'EnvironmentSatisfaction', 'Gender', 'HourlyRate',\n",
       "       'JobInvolvement', 'JobLevel', 'JobRole', 'JobSatisfaction',\n",
       "       'MaritalStatus', 'MonthlyIncome', 'MonthlyRate', 'NumCompaniesWorked',\n",
       "       'Over18', 'OverTime', 'PercentSalaryHike', 'PerformanceRating',\n",
       "       'RelationshipSatisfaction', 'StandardHours', 'StockOptionLevel',\n",
       "       'TotalWorkingYears', 'TrainingTimesLastYear', 'WorkLifeBalance',\n",
       "       'YearsAtCompany', 'YearsInCurrentRole', 'YearsSinceLastPromotion',\n",
       "       'YearsWithCurrManager'],\n",
       "      dtype='object')"
      ]
     },
     "execution_count": 4,
     "metadata": {},
     "output_type": "execute_result"
    }
   ],
   "source": [
    "df.columns"
   ]
  },
  {
   "cell_type": "code",
   "execution_count": 13,
   "id": "0edf7427",
   "metadata": {},
   "outputs": [
    {
     "name": "stdout",
     "output_type": "stream",
     "text": [
      "Dataset Size\n",
      "Rows 1470 Columns 35\n"
     ]
    }
   ],
   "source": [
    "print('Dataset Size')\n",
    "print(\"Rows {} Columns {}\".format(df.shape[0],df.shape[1]))"
   ]
  },
  {
   "cell_type": "code",
   "execution_count": null,
   "id": "30699127",
   "metadata": {},
   "outputs": [],
   "source": []
  },
  {
   "cell_type": "code",
   "execution_count": 15,
   "id": "aaaa3250",
   "metadata": {},
   "outputs": [
    {
     "name": "stdout",
     "output_type": "stream",
     "text": [
      "Columns and data types\n"
     ]
    },
    {
     "data": {
      "text/html": [
       "<div>\n",
       "<style scoped>\n",
       "    .dataframe tbody tr th:only-of-type {\n",
       "        vertical-align: middle;\n",
       "    }\n",
       "\n",
       "    .dataframe tbody tr th {\n",
       "        vertical-align: top;\n",
       "    }\n",
       "\n",
       "    .dataframe thead th {\n",
       "        text-align: right;\n",
       "    }\n",
       "</style>\n",
       "<table border=\"1\" class=\"dataframe\">\n",
       "  <thead>\n",
       "    <tr style=\"text-align: right;\">\n",
       "      <th></th>\n",
       "      <th>dtypes</th>\n",
       "    </tr>\n",
       "  </thead>\n",
       "  <tbody>\n",
       "    <tr>\n",
       "      <th>Age</th>\n",
       "      <td>int64</td>\n",
       "    </tr>\n",
       "    <tr>\n",
       "      <th>Attrition</th>\n",
       "      <td>int64</td>\n",
       "    </tr>\n",
       "    <tr>\n",
       "      <th>BusinessTravel</th>\n",
       "      <td>object</td>\n",
       "    </tr>\n",
       "    <tr>\n",
       "      <th>DailyRate</th>\n",
       "      <td>int64</td>\n",
       "    </tr>\n",
       "    <tr>\n",
       "      <th>Department</th>\n",
       "      <td>object</td>\n",
       "    </tr>\n",
       "    <tr>\n",
       "      <th>DistanceFromHome</th>\n",
       "      <td>int64</td>\n",
       "    </tr>\n",
       "    <tr>\n",
       "      <th>Education</th>\n",
       "      <td>int64</td>\n",
       "    </tr>\n",
       "    <tr>\n",
       "      <th>EducationField</th>\n",
       "      <td>object</td>\n",
       "    </tr>\n",
       "    <tr>\n",
       "      <th>EmployeeCount</th>\n",
       "      <td>int64</td>\n",
       "    </tr>\n",
       "    <tr>\n",
       "      <th>EmployeeNumber</th>\n",
       "      <td>int64</td>\n",
       "    </tr>\n",
       "    <tr>\n",
       "      <th>EnvironmentSatisfaction</th>\n",
       "      <td>int64</td>\n",
       "    </tr>\n",
       "    <tr>\n",
       "      <th>Gender</th>\n",
       "      <td>object</td>\n",
       "    </tr>\n",
       "    <tr>\n",
       "      <th>HourlyRate</th>\n",
       "      <td>int64</td>\n",
       "    </tr>\n",
       "    <tr>\n",
       "      <th>JobInvolvement</th>\n",
       "      <td>int64</td>\n",
       "    </tr>\n",
       "    <tr>\n",
       "      <th>JobLevel</th>\n",
       "      <td>int64</td>\n",
       "    </tr>\n",
       "    <tr>\n",
       "      <th>JobRole</th>\n",
       "      <td>object</td>\n",
       "    </tr>\n",
       "    <tr>\n",
       "      <th>JobSatisfaction</th>\n",
       "      <td>int64</td>\n",
       "    </tr>\n",
       "    <tr>\n",
       "      <th>MaritalStatus</th>\n",
       "      <td>object</td>\n",
       "    </tr>\n",
       "    <tr>\n",
       "      <th>MonthlyIncome</th>\n",
       "      <td>int64</td>\n",
       "    </tr>\n",
       "    <tr>\n",
       "      <th>MonthlyRate</th>\n",
       "      <td>int64</td>\n",
       "    </tr>\n",
       "    <tr>\n",
       "      <th>NumCompaniesWorked</th>\n",
       "      <td>int64</td>\n",
       "    </tr>\n",
       "    <tr>\n",
       "      <th>Over18</th>\n",
       "      <td>object</td>\n",
       "    </tr>\n",
       "    <tr>\n",
       "      <th>OverTime</th>\n",
       "      <td>int64</td>\n",
       "    </tr>\n",
       "    <tr>\n",
       "      <th>PercentSalaryHike</th>\n",
       "      <td>int64</td>\n",
       "    </tr>\n",
       "    <tr>\n",
       "      <th>PerformanceRating</th>\n",
       "      <td>int64</td>\n",
       "    </tr>\n",
       "    <tr>\n",
       "      <th>RelationshipSatisfaction</th>\n",
       "      <td>int64</td>\n",
       "    </tr>\n",
       "    <tr>\n",
       "      <th>StandardHours</th>\n",
       "      <td>int64</td>\n",
       "    </tr>\n",
       "    <tr>\n",
       "      <th>StockOptionLevel</th>\n",
       "      <td>int64</td>\n",
       "    </tr>\n",
       "    <tr>\n",
       "      <th>TotalWorkingYears</th>\n",
       "      <td>int64</td>\n",
       "    </tr>\n",
       "    <tr>\n",
       "      <th>TrainingTimesLastYear</th>\n",
       "      <td>int64</td>\n",
       "    </tr>\n",
       "    <tr>\n",
       "      <th>WorkLifeBalance</th>\n",
       "      <td>int64</td>\n",
       "    </tr>\n",
       "    <tr>\n",
       "      <th>YearsAtCompany</th>\n",
       "      <td>int64</td>\n",
       "    </tr>\n",
       "    <tr>\n",
       "      <th>YearsInCurrentRole</th>\n",
       "      <td>int64</td>\n",
       "    </tr>\n",
       "    <tr>\n",
       "      <th>YearsSinceLastPromotion</th>\n",
       "      <td>int64</td>\n",
       "    </tr>\n",
       "    <tr>\n",
       "      <th>YearsWithCurrManager</th>\n",
       "      <td>int64</td>\n",
       "    </tr>\n",
       "  </tbody>\n",
       "</table>\n",
       "</div>"
      ],
      "text/plain": [
       "                          dtypes\n",
       "Age                        int64\n",
       "Attrition                  int64\n",
       "BusinessTravel            object\n",
       "DailyRate                  int64\n",
       "Department                object\n",
       "DistanceFromHome           int64\n",
       "Education                  int64\n",
       "EducationField            object\n",
       "EmployeeCount              int64\n",
       "EmployeeNumber             int64\n",
       "EnvironmentSatisfaction    int64\n",
       "Gender                    object\n",
       "HourlyRate                 int64\n",
       "JobInvolvement             int64\n",
       "JobLevel                   int64\n",
       "JobRole                   object\n",
       "JobSatisfaction            int64\n",
       "MaritalStatus             object\n",
       "MonthlyIncome              int64\n",
       "MonthlyRate                int64\n",
       "NumCompaniesWorked         int64\n",
       "Over18                    object\n",
       "OverTime                   int64\n",
       "PercentSalaryHike          int64\n",
       "PerformanceRating          int64\n",
       "RelationshipSatisfaction   int64\n",
       "StandardHours              int64\n",
       "StockOptionLevel           int64\n",
       "TotalWorkingYears          int64\n",
       "TrainingTimesLastYear      int64\n",
       "WorkLifeBalance            int64\n",
       "YearsAtCompany             int64\n",
       "YearsInCurrentRole         int64\n",
       "YearsSinceLastPromotion    int64\n",
       "YearsWithCurrManager       int64"
      ]
     },
     "execution_count": 15,
     "metadata": {},
     "output_type": "execute_result"
    }
   ],
   "source": [
    "print('Columns and data types')\n",
    "pd.DataFrame(df.dtypes).rename(columns={0:'dtypes'})"
   ]
  },
  {
   "cell_type": "code",
   "execution_count": 22,
   "id": "40416f60",
   "metadata": {},
   "outputs": [
    {
     "data": {
      "image/png": "[encoded data removed]",
      "text/plain": [
       "<Figure size 648x432 with 1 Axes>"
      ]
     },
     "metadata": {
      "needs_background": "light"
     },
     "output_type": "display_data"
    }
   ],
   "source": [
    "fig = plt.figure(figsize=(9,6))\n",
    "ax = fig.gca()\n",
    "df.boxplot(column = 'MonthlyIncome',by = 'Attrition',ax=ax)\n",
    "ax.set_ylabel('MonthlyIncome')\n",
    "plt.show()"
   ]
  },
  {
   "cell_type": "code",
   "execution_count": 23,
   "id": "64e1edf3",
   "metadata": {},
   "outputs": [
    {
     "data": {
      "image/png": "[encoded data removed]",
      "text/plain": [
       "<Figure size 648x432 with 1 Axes>"
      ]
     },
     "metadata": {
      "needs_background": "light"
     },
     "output_type": "display_data"
    }
   ],
   "source": [
    "fig = plt.figure(figsize=(9,6))\n",
    "ax = fig.gca()\n",
    "df.boxplot(column = 'TotalWorkingYears',by='Attrition',ax=ax)\n",
    "ax.set_ylabel('TotalWorkingYears')\n",
    "plt.show()"
   ]
  },
  {
   "cell_type": "code",
   "execution_count": 24,
   "id": "1fed22ab",
   "metadata": {},
   "outputs": [],
   "source": [
    "X = df[['MonthlyIncome','TotalWorkingYears']].copy()\n",
    "y = df['Attrition'].copy()"
   ]
  },
  {
   "cell_type": "code",
   "execution_count": 26,
   "id": "4e0d3aa3",
   "metadata": {},
   "outputs": [
    {
     "data": {
      "text/plain": [
       "(1470, 35)"
      ]
     },
     "execution_count": 26,
     "metadata": {},
     "output_type": "execute_result"
    }
   ],
   "source": [
    "df.shape"
   ]
  },
  {
   "cell_type": "code",
   "execution_count": 27,
   "id": "bc9c5355",
   "metadata": {},
   "outputs": [
    {
     "name": "stdout",
     "output_type": "stream",
     "text": [
      "(1176, 2)\n",
      "(294, 2)\n"
     ]
    }
   ],
   "source": [
    "from sklearn.model_selection import train_test_split\n",
    "X_train, X_test, y_train, y_test = train_test_split(X,y,test_size=0.2,random_state=0)\n",
    "print(X_train.shape)\n",
    "print(X_test.shape)"
   ]
  },
  {
   "cell_type": "code",
   "execution_count": 28,
   "id": "4360eb74",
   "metadata": {},
   "outputs": [
    {
     "data": {
      "text/plain": [
       "0    988\n",
       "1    188\n",
       "Name: Attrition, dtype: int64"
      ]
     },
     "execution_count": 28,
     "metadata": {},
     "output_type": "execute_result"
    }
   ],
   "source": [
    "y_train.value_counts()"
   ]
  },
  {
   "cell_type": "code",
   "execution_count": 30,
   "id": "6a540800",
   "metadata": {},
   "outputs": [
    {
     "data": {
      "text/plain": [
       "0    245\n",
       "1     49\n",
       "Name: Attrition, dtype: int64"
      ]
     },
     "execution_count": 30,
     "metadata": {},
     "output_type": "execute_result"
    }
   ],
   "source": [
    "y_test.value_counts()"
   ]
  },
  {
   "cell_type": "markdown",
   "id": "37f3ed3a",
   "metadata": {},
   "source": [
    "## Fitting Logistic Regression on trained data\n"
   ]
  },
  {
   "cell_type": "code",
   "execution_count": 33,
   "id": "5e820f3d",
   "metadata": {},
   "outputs": [],
   "source": [
    "from sklearn.linear_model import LogisticRegression"
   ]
  },
  {
   "cell_type": "code",
   "execution_count": 36,
   "id": "db008791",
   "metadata": {},
   "outputs": [
    {
     "data": {
      "text/plain": [
       "LogisticRegression(max_iter=10000)"
      ]
     },
     "execution_count": 36,
     "metadata": {},
     "output_type": "execute_result"
    }
   ],
   "source": [
    "clf = LogisticRegression(fit_intercept=True,max_iter=10000)\n",
    "clf.fit(X_train,y_train)"
   ]
  },
  {
   "cell_type": "code",
   "execution_count": 37,
   "id": "d68df519",
   "metadata": {},
   "outputs": [
    {
     "data": {
      "text/plain": [
       "array([[-5.83718109e-05, -5.98172728e-02]])"
      ]
     },
     "execution_count": 37,
     "metadata": {},
     "output_type": "execute_result"
    }
   ],
   "source": [
    "clf.coef_"
   ]
  },
  {
   "cell_type": "code",
   "execution_count": 38,
   "id": "45123b52",
   "metadata": {},
   "outputs": [
    {
     "data": {
      "text/plain": [
       "array([-0.7585664])"
      ]
     },
     "execution_count": 38,
     "metadata": {},
     "output_type": "execute_result"
    }
   ],
   "source": [
    "clf.intercept_"
   ]
  },
  {
   "cell_type": "code",
   "execution_count": 40,
   "id": "1f7e5eb5",
   "metadata": {},
   "outputs": [],
   "source": [
    "train_pred = clf.predict_proba(X_train)\n",
    "test_pred = clf.predict_proba(X_test)"
   ]
  },
  {
   "cell_type": "code",
   "execution_count": 41,
   "id": "27c2ad79",
   "metadata": {},
   "outputs": [
    {
     "data": {
      "text/html": [
       "<div>\n",
       "<style scoped>\n",
       "    .dataframe tbody tr th:only-of-type {\n",
       "        vertical-align: middle;\n",
       "    }\n",
       "\n",
       "    .dataframe tbody tr th {\n",
       "        vertical-align: top;\n",
       "    }\n",
       "\n",
       "    .dataframe thead th {\n",
       "        text-align: right;\n",
       "    }\n",
       "</style>\n",
       "<table border=\"1\" class=\"dataframe\">\n",
       "  <thead>\n",
       "    <tr style=\"text-align: right;\">\n",
       "      <th></th>\n",
       "      <th>MonthlyIncome</th>\n",
       "      <th>TotalWorkingYears</th>\n",
       "    </tr>\n",
       "  </thead>\n",
       "  <tbody>\n",
       "    <tr>\n",
       "      <th>442</th>\n",
       "      <td>9980</td>\n",
       "      <td>10</td>\n",
       "    </tr>\n",
       "    <tr>\n",
       "      <th>1091</th>\n",
       "      <td>4320</td>\n",
       "      <td>5</td>\n",
       "    </tr>\n",
       "    <tr>\n",
       "      <th>981</th>\n",
       "      <td>4614</td>\n",
       "      <td>5</td>\n",
       "    </tr>\n",
       "    <tr>\n",
       "      <th>785</th>\n",
       "      <td>10322</td>\n",
       "      <td>14</td>\n",
       "    </tr>\n",
       "    <tr>\n",
       "      <th>1332</th>\n",
       "      <td>2439</td>\n",
       "      <td>1</td>\n",
       "    </tr>\n",
       "    <tr>\n",
       "      <th>...</th>\n",
       "      <td>...</td>\n",
       "      <td>...</td>\n",
       "    </tr>\n",
       "    <tr>\n",
       "      <th>1439</th>\n",
       "      <td>7644</td>\n",
       "      <td>10</td>\n",
       "    </tr>\n",
       "    <tr>\n",
       "      <th>481</th>\n",
       "      <td>3622</td>\n",
       "      <td>6</td>\n",
       "    </tr>\n",
       "    <tr>\n",
       "      <th>124</th>\n",
       "      <td>6172</td>\n",
       "      <td>12</td>\n",
       "    </tr>\n",
       "    <tr>\n",
       "      <th>198</th>\n",
       "      <td>6553</td>\n",
       "      <td>14</td>\n",
       "    </tr>\n",
       "    <tr>\n",
       "      <th>1229</th>\n",
       "      <td>6516</td>\n",
       "      <td>18</td>\n",
       "    </tr>\n",
       "  </tbody>\n",
       "</table>\n",
       "<p>294 rows × 2 columns</p>\n",
       "</div>"
      ],
      "text/plain": [
       "      MonthlyIncome  TotalWorkingYears\n",
       "442            9980                 10\n",
       "1091           4320                  5\n",
       "981            4614                  5\n",
       "785           10322                 14\n",
       "1332           2439                  1\n",
       "...             ...                ...\n",
       "1439           7644                 10\n",
       "481            3622                  6\n",
       "124            6172                 12\n",
       "198            6553                 14\n",
       "1229           6516                 18\n",
       "\n",
       "[294 rows x 2 columns]"
      ]
     },
     "execution_count": 41,
     "metadata": {},
     "output_type": "execute_result"
    }
   ],
   "source": [
    "X_test"
   ]
  },
  {
   "cell_type": "code",
   "execution_count": 42,
   "id": "c159d924",
   "metadata": {},
   "outputs": [
    {
     "data": {
      "text/plain": [
       "array([[0.8742741 , 0.1257259 ],\n",
       "       [0.78748286, 0.21251714],\n",
       "       [0.7903407 , 0.2096593 ],\n",
       "       [0.90011671, 0.09988329],\n",
       "       [0.72327245, 0.27672755],\n",
       "       [0.71909403, 0.28090597],\n",
       "       [0.87911699, 0.12088301],\n",
       "       [0.86254973, 0.13745027],\n",
       "       [0.90598603, 0.09401397],\n",
       "       [0.81259893, 0.18740107],\n",
       "       [0.94281158, 0.05718842],\n",
       "       [0.79336896, 0.20663104],\n",
       "       [0.83674906, 0.16325094],\n",
       "       [0.81549084, 0.18450916],\n",
       "       [0.94414778, 0.05585222],\n",
       "       [0.85290649, 0.14709351],\n",
       "       [0.83617225, 0.16382775],\n",
       "       [0.77579097, 0.22420903],\n",
       "       [0.8545607 , 0.1454393 ],\n",
       "       [0.81681338, 0.18318662],\n",
       "       [0.72459069, 0.27540931],\n",
       "       [0.95877752, 0.04122248],\n",
       "       [0.83612237, 0.16387763],\n",
       "       [0.82841694, 0.17158306],\n",
       "       [0.78588621, 0.21411379],\n",
       "       [0.86310933, 0.13689067],\n",
       "       [0.82407025, 0.17592975],\n",
       "       [0.89486145, 0.10513855],\n",
       "       [0.73441237, 0.26558763],\n",
       "       [0.8754851 , 0.1245149 ],\n",
       "       [0.87935544, 0.12064456],\n",
       "       [0.8297098 , 0.1702902 ],\n",
       "       [0.95469308, 0.04530692],\n",
       "       [0.96072451, 0.03927549],\n",
       "       [0.8421477 , 0.1578523 ],\n",
       "       [0.88629139, 0.11370861],\n",
       "       [0.93802238, 0.06197762],\n",
       "       [0.77068143, 0.22931857],\n",
       "       [0.86511038, 0.13488962],\n",
       "       [0.77084889, 0.22915111],\n",
       "       [0.90202927, 0.09797073],\n",
       "       [0.85821634, 0.14178366],\n",
       "       [0.93853026, 0.06146974],\n",
       "       [0.91642429, 0.08357571],\n",
       "       [0.8449004 , 0.1550996 ],\n",
       "       [0.79884077, 0.20115923],\n",
       "       [0.78916565, 0.21083435],\n",
       "       [0.81474938, 0.18525062],\n",
       "       [0.7164453 , 0.2835547 ],\n",
       "       [0.77752769, 0.22247231],\n",
       "       [0.95503568, 0.04496432],\n",
       "       [0.76514966, 0.23485034],\n",
       "       [0.85967321, 0.14032679],\n",
       "       [0.83414339, 0.16585661],\n",
       "       [0.83608469, 0.16391531],\n",
       "       [0.89539613, 0.10460387],\n",
       "       [0.89423823, 0.10576177],\n",
       "       [0.9030841 , 0.0969159 ],\n",
       "       [0.80306996, 0.19693004],\n",
       "       [0.84486396, 0.15513604],\n",
       "       [0.8268288 , 0.1731712 ],\n",
       "       [0.81476028, 0.18523972],\n",
       "       [0.90209116, 0.09790884],\n",
       "       [0.8162095 , 0.1837905 ],\n",
       "       [0.93847972, 0.06152028],\n",
       "       [0.91844693, 0.08155307],\n",
       "       [0.82037586, 0.17962414],\n",
       "       [0.86519765, 0.13480235],\n",
       "       [0.78716546, 0.21283454],\n",
       "       [0.73851345, 0.26148655],\n",
       "       [0.9403592 , 0.0596408 ],\n",
       "       [0.78185908, 0.21814092],\n",
       "       [0.83225943, 0.16774057],\n",
       "       [0.83666364, 0.16333636],\n",
       "       [0.81744094, 0.18255906],\n",
       "       [0.80082418, 0.19917582],\n",
       "       [0.81245245, 0.18754755],\n",
       "       [0.96624523, 0.03375477],\n",
       "       [0.75036946, 0.24963054],\n",
       "       [0.87944684, 0.12055316],\n",
       "       [0.96803304, 0.03196696],\n",
       "       [0.85240743, 0.14759257],\n",
       "       [0.75161385, 0.24838615],\n",
       "       [0.77520689, 0.22479311],\n",
       "       [0.83740832, 0.16259168],\n",
       "       [0.83266605, 0.16733395],\n",
       "       [0.98209882, 0.01790118],\n",
       "       [0.76463281, 0.23536719],\n",
       "       [0.87386475, 0.12613525],\n",
       "       [0.83470982, 0.16529018],\n",
       "       [0.69992512, 0.30007488],\n",
       "       [0.88905783, 0.11094217],\n",
       "       [0.8514706 , 0.1485294 ],\n",
       "       [0.85487105, 0.14512895],\n",
       "       [0.89844732, 0.10155268],\n",
       "       [0.81489702, 0.18510298],\n",
       "       [0.81932611, 0.18067389],\n",
       "       [0.84172045, 0.15827955],\n",
       "       [0.7492635 , 0.2507365 ],\n",
       "       [0.80474032, 0.19525968],\n",
       "       [0.82404687, 0.17595313],\n",
       "       [0.89705988, 0.10294012],\n",
       "       [0.97108112, 0.02891888],\n",
       "       [0.89315687, 0.10684313],\n",
       "       [0.76254087, 0.23745913],\n",
       "       [0.86485168, 0.13514832],\n",
       "       [0.86945551, 0.13054449],\n",
       "       [0.72563783, 0.27436217],\n",
       "       [0.87201498, 0.12798502],\n",
       "       [0.79443639, 0.20556361],\n",
       "       [0.83580831, 0.16419169],\n",
       "       [0.95139424, 0.04860576],\n",
       "       [0.88596046, 0.11403954],\n",
       "       [0.8223924 , 0.1776076 ],\n",
       "       [0.78756614, 0.21243386],\n",
       "       [0.80848944, 0.19151056],\n",
       "       [0.87772024, 0.12227976],\n",
       "       [0.92476854, 0.07523146],\n",
       "       [0.97210239, 0.02789761],\n",
       "       [0.84988386, 0.15011614],\n",
       "       [0.81733891, 0.18266109],\n",
       "       [0.78925304, 0.21074696],\n",
       "       [0.85037647, 0.14962353],\n",
       "       [0.77484048, 0.22515952],\n",
       "       [0.94223382, 0.05776618],\n",
       "       [0.98059713, 0.01940287],\n",
       "       [0.94131273, 0.05868727],\n",
       "       [0.8171097 , 0.1828903 ],\n",
       "       [0.87430618, 0.12569382],\n",
       "       [0.88539557, 0.11460443],\n",
       "       [0.95651234, 0.04348766],\n",
       "       [0.85490725, 0.14509275],\n",
       "       [0.78571452, 0.21428548],\n",
       "       [0.84481402, 0.15518598],\n",
       "       [0.96756627, 0.03243373],\n",
       "       [0.89963063, 0.10036937],\n",
       "       [0.81042249, 0.18957751],\n",
       "       [0.80262209, 0.19737791],\n",
       "       [0.86523294, 0.13476706],\n",
       "       [0.90639671, 0.09360329],\n",
       "       [0.95190455, 0.04809545],\n",
       "       [0.81546449, 0.18453551],\n",
       "       [0.86576296, 0.13423704],\n",
       "       [0.839694  , 0.160306  ],\n",
       "       [0.84168197, 0.15831803],\n",
       "       [0.86635402, 0.13364598],\n",
       "       [0.94186736, 0.05813264],\n",
       "       [0.960727  , 0.039273  ],\n",
       "       [0.91038393, 0.08961607],\n",
       "       [0.7840856 , 0.2159144 ],\n",
       "       [0.7975571 , 0.2024429 ],\n",
       "       [0.8800053 , 0.1199947 ],\n",
       "       [0.82224337, 0.17775663],\n",
       "       [0.9680962 , 0.0319038 ],\n",
       "       [0.98119217, 0.01880783],\n",
       "       [0.83972542, 0.16027458],\n",
       "       [0.96858211, 0.03141789],\n",
       "       [0.77690104, 0.22309896],\n",
       "       [0.84740434, 0.15259566],\n",
       "       [0.86746684, 0.13253316],\n",
       "       [0.94672925, 0.05327075],\n",
       "       [0.8781272 , 0.1218728 ],\n",
       "       [0.77479975, 0.22520025],\n",
       "       [0.72741227, 0.27258773],\n",
       "       [0.85896961, 0.14103039],\n",
       "       [0.85053237, 0.14946763],\n",
       "       [0.85448088, 0.14551912],\n",
       "       [0.78234651, 0.21765349],\n",
       "       [0.80505416, 0.19494584],\n",
       "       [0.96789953, 0.03210047],\n",
       "       [0.94901255, 0.05098745],\n",
       "       [0.85539683, 0.14460317],\n",
       "       [0.89506764, 0.10493236],\n",
       "       [0.76951363, 0.23048637],\n",
       "       [0.96356959, 0.03643041],\n",
       "       [0.72788655, 0.27211345],\n",
       "       [0.83498346, 0.16501654],\n",
       "       [0.91992978, 0.08007022],\n",
       "       [0.79977713, 0.20022287],\n",
       "       [0.97074514, 0.02925486],\n",
       "       [0.85337417, 0.14662583],\n",
       "       [0.84399159, 0.15600841],\n",
       "       [0.97622379, 0.02377621],\n",
       "       [0.90599571, 0.09400429],\n",
       "       [0.81468353, 0.18531647],\n",
       "       [0.78036442, 0.21963558],\n",
       "       [0.84187408, 0.15812592],\n",
       "       [0.82238186, 0.17761814],\n",
       "       [0.8295487 , 0.1704513 ],\n",
       "       [0.77645556, 0.22354444],\n",
       "       [0.78220968, 0.21779032],\n",
       "       [0.72279318, 0.27720682],\n",
       "       [0.83773579, 0.16226421],\n",
       "       [0.82465341, 0.17534659],\n",
       "       [0.74016708, 0.25983292],\n",
       "       [0.81786327, 0.18213673],\n",
       "       [0.81513001, 0.18486999],\n",
       "       [0.93710928, 0.06289072],\n",
       "       [0.72415948, 0.27584052],\n",
       "       [0.8356263 , 0.1643737 ],\n",
       "       [0.77219438, 0.22780562],\n",
       "       [0.74803329, 0.25196671],\n",
       "       [0.79807496, 0.20192504],\n",
       "       [0.85375529, 0.14624471],\n",
       "       [0.84152224, 0.15847776],\n",
       "       [0.84573775, 0.15426225],\n",
       "       [0.72900658, 0.27099342],\n",
       "       [0.97837328, 0.02162672],\n",
       "       [0.85335956, 0.14664044],\n",
       "       [0.87072889, 0.12927111],\n",
       "       [0.87835667, 0.12164333],\n",
       "       [0.77890791, 0.22109209],\n",
       "       [0.85259827, 0.14740173],\n",
       "       [0.77337307, 0.22662693],\n",
       "       [0.84618293, 0.15381707],\n",
       "       [0.91748998, 0.08251002],\n",
       "       [0.96697607, 0.03302393],\n",
       "       [0.78250785, 0.21749215],\n",
       "       [0.96574368, 0.03425632],\n",
       "       [0.71292215, 0.28707785],\n",
       "       [0.79228327, 0.20771673],\n",
       "       [0.72370451, 0.27629549],\n",
       "       [0.76171296, 0.23828704],\n",
       "       [0.97300842, 0.02699158],\n",
       "       [0.7862494 , 0.2137506 ],\n",
       "       [0.78875003, 0.21124997],\n",
       "       [0.89242364, 0.10757636],\n",
       "       [0.80367634, 0.19632366],\n",
       "       [0.71562637, 0.28437363],\n",
       "       [0.79988927, 0.20011073],\n",
       "       [0.95849978, 0.04150022],\n",
       "       [0.79375146, 0.20624854],\n",
       "       [0.77555736, 0.22444264],\n",
       "       [0.83254637, 0.16745363],\n",
       "       [0.86817341, 0.13182659],\n",
       "       [0.87749155, 0.12250845],\n",
       "       [0.77382532, 0.22617468],\n",
       "       [0.89806096, 0.10193904],\n",
       "       [0.80449473, 0.19550527],\n",
       "       [0.97250294, 0.02749706],\n",
       "       [0.77802205, 0.22197795],\n",
       "       [0.78685699, 0.21314301],\n",
       "       [0.97106675, 0.02893325],\n",
       "       [0.81555185, 0.18444815],\n",
       "       [0.8570601 , 0.1429399 ],\n",
       "       [0.88216271, 0.11783729],\n",
       "       [0.87365686, 0.12634314],\n",
       "       [0.79961818, 0.20038182],\n",
       "       [0.82642726, 0.17357274],\n",
       "       [0.86217889, 0.13782111],\n",
       "       [0.80431806, 0.19568194],\n",
       "       [0.85249554, 0.14750446],\n",
       "       [0.81265226, 0.18734774],\n",
       "       [0.95589809, 0.04410191],\n",
       "       [0.80407908, 0.19592092],\n",
       "       [0.87825981, 0.12174019],\n",
       "       [0.9770511 , 0.0229489 ],\n",
       "       [0.74618048, 0.25381952],\n",
       "       [0.76168117, 0.23831883],\n",
       "       [0.83228387, 0.16771613],\n",
       "       [0.84751713, 0.15248287],\n",
       "       [0.8416486 , 0.1583514 ],\n",
       "       [0.88605928, 0.11394072],\n",
       "       [0.84742441, 0.15257559],\n",
       "       [0.83913534, 0.16086466],\n",
       "       [0.79835256, 0.20164744],\n",
       "       [0.84802186, 0.15197814],\n",
       "       [0.78345769, 0.21654231],\n",
       "       [0.8883201 , 0.1116799 ],\n",
       "       [0.856417  , 0.143583  ],\n",
       "       [0.79270059, 0.20729941],\n",
       "       [0.84579686, 0.15420314],\n",
       "       [0.77876186, 0.22123814],\n",
       "       [0.90124485, 0.09875515],\n",
       "       [0.82546223, 0.17453777],\n",
       "       [0.85755281, 0.14244719],\n",
       "       [0.86131986, 0.13868014],\n",
       "       [0.75589333, 0.24410667],\n",
       "       [0.83439359, 0.16560641],\n",
       "       [0.74898925, 0.25101075],\n",
       "       [0.77296601, 0.22703399],\n",
       "       [0.76440162, 0.23559838],\n",
       "       [0.77245099, 0.22754901],\n",
       "       [0.96009448, 0.03990552],\n",
       "       [0.98343072, 0.01656928],\n",
       "       [0.76896692, 0.23103308],\n",
       "       [0.87997188, 0.12002812],\n",
       "       [0.84779603, 0.15220397],\n",
       "       [0.95373347, 0.04626653],\n",
       "       [0.85850562, 0.14149438],\n",
       "       [0.79065742, 0.20934258],\n",
       "       [0.86255137, 0.13744863],\n",
       "       [0.87852317, 0.12147683],\n",
       "       [0.90164416, 0.09835584]])"
      ]
     },
     "execution_count": 42,
     "metadata": {},
     "output_type": "execute_result"
    }
   ],
   "source": [
    "test_pred"
   ]
  },
  {
   "cell_type": "code",
   "execution_count": 43,
   "id": "c945f35f",
   "metadata": {},
   "outputs": [],
   "source": [
    "train_pred = clf.predict_proba(X_train)[:,1]\n",
    "test_pred = clf.predict_proba(X_test)[:,1]"
   ]
  },
  {
   "cell_type": "code",
   "execution_count": 45,
   "id": "4de3baea",
   "metadata": {},
   "outputs": [
    {
     "data": {
      "text/plain": [
       "array([0.1257259 , 0.21251714, 0.2096593 , 0.09988329, 0.27672755,\n",
       "       0.28090597, 0.12088301, 0.13745027, 0.09401397, 0.18740107,\n",
       "       0.05718842, 0.20663104, 0.16325094, 0.18450916, 0.05585222,\n",
       "       0.14709351, 0.16382775, 0.22420903, 0.1454393 , 0.18318662,\n",
       "       0.27540931, 0.04122248, 0.16387763, 0.17158306, 0.21411379,\n",
       "       0.13689067, 0.17592975, 0.10513855, 0.26558763, 0.1245149 ,\n",
       "       0.12064456, 0.1702902 , 0.04530692, 0.03927549, 0.1578523 ,\n",
       "       0.11370861, 0.06197762, 0.22931857, 0.13488962, 0.22915111,\n",
       "       0.09797073, 0.14178366, 0.06146974, 0.08357571, 0.1550996 ,\n",
       "       0.20115923, 0.21083435, 0.18525062, 0.2835547 , 0.22247231,\n",
       "       0.04496432, 0.23485034, 0.14032679, 0.16585661, 0.16391531,\n",
       "       0.10460387, 0.10576177, 0.0969159 , 0.19693004, 0.15513604,\n",
       "       0.1731712 , 0.18523972, 0.09790884, 0.1837905 , 0.06152028,\n",
       "       0.08155307, 0.17962414, 0.13480235, 0.21283454, 0.26148655,\n",
       "       0.0596408 , 0.21814092, 0.16774057, 0.16333636, 0.18255906,\n",
       "       0.19917582, 0.18754755, 0.03375477, 0.24963054, 0.12055316,\n",
       "       0.03196696, 0.14759257, 0.24838615, 0.22479311, 0.16259168,\n",
       "       0.16733395, 0.01790118, 0.23536719, 0.12613525, 0.16529018,\n",
       "       0.30007488, 0.11094217, 0.1485294 , 0.14512895, 0.10155268,\n",
       "       0.18510298, 0.18067389, 0.15827955, 0.2507365 , 0.19525968,\n",
       "       0.17595313, 0.10294012, 0.02891888, 0.10684313, 0.23745913,\n",
       "       0.13514832, 0.13054449, 0.27436217, 0.12798502, 0.20556361,\n",
       "       0.16419169, 0.04860576, 0.11403954, 0.1776076 , 0.21243386,\n",
       "       0.19151056, 0.12227976, 0.07523146, 0.02789761, 0.15011614,\n",
       "       0.18266109, 0.21074696, 0.14962353, 0.22515952, 0.05776618,\n",
       "       0.01940287, 0.05868727, 0.1828903 , 0.12569382, 0.11460443,\n",
       "       0.04348766, 0.14509275, 0.21428548, 0.15518598, 0.03243373,\n",
       "       0.10036937, 0.18957751, 0.19737791, 0.13476706, 0.09360329,\n",
       "       0.04809545, 0.18453551, 0.13423704, 0.160306  , 0.15831803,\n",
       "       0.13364598, 0.05813264, 0.039273  , 0.08961607, 0.2159144 ,\n",
       "       0.2024429 , 0.1199947 , 0.17775663, 0.0319038 , 0.01880783,\n",
       "       0.16027458, 0.03141789, 0.22309896, 0.15259566, 0.13253316,\n",
       "       0.05327075, 0.1218728 , 0.22520025, 0.27258773, 0.14103039,\n",
       "       0.14946763, 0.14551912, 0.21765349, 0.19494584, 0.03210047,\n",
       "       0.05098745, 0.14460317, 0.10493236, 0.23048637, 0.03643041,\n",
       "       0.27211345, 0.16501654, 0.08007022, 0.20022287, 0.02925486,\n",
       "       0.14662583, 0.15600841, 0.02377621, 0.09400429, 0.18531647,\n",
       "       0.21963558, 0.15812592, 0.17761814, 0.1704513 , 0.22354444,\n",
       "       0.21779032, 0.27720682, 0.16226421, 0.17534659, 0.25983292,\n",
       "       0.18213673, 0.18486999, 0.06289072, 0.27584052, 0.1643737 ,\n",
       "       0.22780562, 0.25196671, 0.20192504, 0.14624471, 0.15847776,\n",
       "       0.15426225, 0.27099342, 0.02162672, 0.14664044, 0.12927111,\n",
       "       0.12164333, 0.22109209, 0.14740173, 0.22662693, 0.15381707,\n",
       "       0.08251002, 0.03302393, 0.21749215, 0.03425632, 0.28707785,\n",
       "       0.20771673, 0.27629549, 0.23828704, 0.02699158, 0.2137506 ,\n",
       "       0.21124997, 0.10757636, 0.19632366, 0.28437363, 0.20011073,\n",
       "       0.04150022, 0.20624854, 0.22444264, 0.16745363, 0.13182659,\n",
       "       0.12250845, 0.22617468, 0.10193904, 0.19550527, 0.02749706,\n",
       "       0.22197795, 0.21314301, 0.02893325, 0.18444815, 0.1429399 ,\n",
       "       0.11783729, 0.12634314, 0.20038182, 0.17357274, 0.13782111,\n",
       "       0.19568194, 0.14750446, 0.18734774, 0.04410191, 0.19592092,\n",
       "       0.12174019, 0.0229489 , 0.25381952, 0.23831883, 0.16771613,\n",
       "       0.15248287, 0.1583514 , 0.11394072, 0.15257559, 0.16086466,\n",
       "       0.20164744, 0.15197814, 0.21654231, 0.1116799 , 0.143583  ,\n",
       "       0.20729941, 0.15420314, 0.22123814, 0.09875515, 0.17453777,\n",
       "       0.14244719, 0.13868014, 0.24410667, 0.16560641, 0.25101075,\n",
       "       0.22703399, 0.23559838, 0.22754901, 0.03990552, 0.01656928,\n",
       "       0.23103308, 0.12002812, 0.15220397, 0.04626653, 0.14149438,\n",
       "       0.20934258, 0.13744863, 0.12147683, 0.09835584])"
      ]
     },
     "execution_count": 45,
     "metadata": {},
     "output_type": "execute_result"
    }
   ],
   "source": [
    "test_pred"
   ]
  },
  {
   "cell_type": "code",
   "execution_count": 46,
   "id": "ff3b0f9f",
   "metadata": {},
   "outputs": [],
   "source": [
    "train_class_pred = clf.predict(X_train)\n",
    "test_class_pred = clf.predict(X_test)"
   ]
  },
  {
   "cell_type": "code",
   "execution_count": 47,
   "id": "a5776e1a",
   "metadata": {},
   "outputs": [
    {
     "data": {
      "text/plain": [
       "array([0, 0, 0, ..., 0, 0, 0], dtype=int64)"
      ]
     },
     "execution_count": 47,
     "metadata": {},
     "output_type": "execute_result"
    }
   ],
   "source": [
    "train_class_pred"
   ]
  },
  {
   "cell_type": "code",
   "execution_count": 48,
   "id": "088fbc59",
   "metadata": {},
   "outputs": [],
   "source": [
    "from sklearn.metrics import accuracy_score,confusion_matrix\n",
    "import seaborn as sns"
   ]
  },
  {
   "cell_type": "code",
   "execution_count": 51,
   "id": "90006685",
   "metadata": {},
   "outputs": [
    {
     "name": "stdout",
     "output_type": "stream",
     "text": [
      "0.8401360544217688\n",
      "0.8333333333333334\n"
     ]
    }
   ],
   "source": [
    "train_accuracy = accuracy_score(train_class_pred,y_train)\n",
    "test_accuracy = accuracy_score(test_class_pred,y_test)\n",
    "\n",
    "print(train_accuracy)\n",
    "print(test_accuracy)"
   ]
  },
  {
   "cell_type": "markdown",
   "id": "4028c5a0",
   "metadata": {},
   "source": [
    "## Learning about the confusion matrix"
   ]
  },
  {
   "cell_type": "code",
   "execution_count": 56,
   "id": "3a0c49fc",
   "metadata": {},
   "outputs": [
    {
     "name": "stdout",
     "output_type": "stream",
     "text": [
      "[[988   0]\n",
      " [188   0]]\n"
     ]
    }
   ],
   "source": [
    "# get confusion matrix for both train and test\n",
    "labels = ['Attrition','No-attrition']\n",
    "cm = confusion_matrix(y_train, train_class_pred)\n",
    "print(cm)"
   ]
  },
  {
   "cell_type": "code",
   "execution_count": 57,
   "id": "52dfb1a3",
   "metadata": {},
   "outputs": [
    {
     "data": {
      "text/plain": [
       "[Text(0, 0.5, 'Attrition'), Text(0, 1.5, 'No-attrition')]"
      ]
     },
     "execution_count": 57,
     "metadata": {},
     "output_type": "execute_result"
    },
    {
     "data": {
      "image/png": "[encoded data removed]",
      "text/plain": [
       "<Figure size 432x288 with 2 Axes>"
      ]
     },
     "metadata": {
      "needs_background": "light"
     },
     "output_type": "display_data"
    }
   ],
   "source": [
    "ax = plt.subplot()\n",
    "sns.heatmap(cm,annot=True,ax=ax)\n",
    "\n",
    "ax.set_xlabel('Predicted labels')\n",
    "ax.set_ylabel('True labels')\n",
    "ax.set_title('Confusion Matrix')\n",
    "ax.xaxis.set_ticklabels(labels)\n",
    "ax.yaxis.set_ticklabels(labels)"
   ]
  },
  {
   "cell_type": "code",
   "execution_count": 54,
   "id": "d393460d",
   "metadata": {},
   "outputs": [
    {
     "data": {
      "text/plain": [
       "array([0, 0, 0, ..., 0, 0, 0], dtype=int64)"
      ]
     },
     "execution_count": 54,
     "metadata": {},
     "output_type": "execute_result"
    }
   ],
   "source": [
    "train_class_pred"
   ]
  },
  {
   "cell_type": "code",
   "execution_count": 60,
   "id": "ad31cfef",
   "metadata": {},
   "outputs": [
    {
     "name": "stdout",
     "output_type": "stream",
     "text": [
      "[[245   0]\n",
      " [ 49   0]]\n"
     ]
    },
    {
     "data": {
      "text/plain": [
       "[Text(0, 0.5, 'Attrition'), Text(0, 1.5, 'No-attrition')]"
      ]
     },
     "execution_count": 60,
     "metadata": {},
     "output_type": "execute_result"
    },
    {
     "data": {
      "image/png": "[encoded data removed]",
      "text/plain": [
       "<Figure size 432x288 with 2 Axes>"
      ]
     },
     "metadata": {
      "needs_background": "light"
     },
     "output_type": "display_data"
    }
   ],
   "source": [
    "labels = ['Attrition','No-attrition']\n",
    "cm = confusion_matrix(y_test, test_class_pred)\n",
    "print(cm)\n",
    "\n",
    "ax = plt.subplot()\n",
    "sns.heatmap(cm,annot=True,ax=ax)\n",
    "\n",
    "ax.set_xlabel('Predicted labels')\n",
    "ax.set_ylabel('True labels')\n",
    "ax.set_title('Confusion Matrix')\n",
    "ax.xaxis.set_ticklabels(labels)\n",
    "ax.yaxis.set_ticklabels(labels)"
   ]
  },
  {
   "cell_type": "markdown",
   "id": "9a4d9d22",
   "metadata": {},
   "source": [
    "## Implementing Cross-validated Logistic Regression"
   ]
  },
  {
   "cell_type": "code",
   "execution_count": 61,
   "id": "78d32db3",
   "metadata": {},
   "outputs": [],
   "source": [
    "from sklearn.linear_model import LogisticRegressionCV\n",
    "from sklearn.model_selection import cross_validate"
   ]
  },
  {
   "cell_type": "code",
   "execution_count": 62,
   "id": "0d11ad6c",
   "metadata": {},
   "outputs": [],
   "source": [
    "logistic = LogisticRegression()"
   ]
  },
  {
   "cell_type": "code",
   "execution_count": null,
   "id": "fc146d27",
   "metadata": {},
   "outputs": [],
   "source": []
  },
  {
   "cell_type": "code",
   "execution_count": 64,
   "id": "85695fb9",
   "metadata": {},
   "outputs": [
    {
     "name": "stdout",
     "output_type": "stream",
     "text": [
      "[CV] START .....................................................................\n",
      "[CV] END ................ accuracy: (train=0.840, test=0.839) total time=   0.0s\n",
      "[CV] START .....................................................................\n",
      "[CV] END ................ accuracy: (train=0.840, test=0.843) total time=   0.0s\n",
      "[CV] START .....................................................................\n",
      "[CV] END ................ accuracy: (train=0.840, test=0.843) total time=   0.0s\n",
      "[CV] START .....................................................................\n",
      "[CV] END ................ accuracy: (train=0.841, test=0.838) total time=   0.0s\n",
      "[CV] START .....................................................................\n",
      "[CV] END ................ accuracy: (train=0.841, test=0.838) total time=   0.0s\n"
     ]
    },
    {
     "name": "stderr",
     "output_type": "stream",
     "text": [
      "[Parallel(n_jobs=1)]: Using backend SequentialBackend with 1 concurrent workers.\n",
      "[Parallel(n_jobs=1)]: Done   1 out of   1 | elapsed:    0.0s remaining:    0.0s\n",
      "[Parallel(n_jobs=1)]: Done   2 out of   2 | elapsed:    0.0s remaining:    0.0s\n",
      "[Parallel(n_jobs=1)]: Done   3 out of   3 | elapsed:    0.0s remaining:    0.0s\n",
      "[Parallel(n_jobs=1)]: Done   4 out of   4 | elapsed:    0.0s remaining:    0.0s\n",
      "[Parallel(n_jobs=1)]: Done   5 out of   5 | elapsed:    0.0s remaining:    0.0s\n",
      "[Parallel(n_jobs=1)]: Done   5 out of   5 | elapsed:    0.0s finished\n"
     ]
    }
   ],
   "source": [
    "scoring = ['accuracy']\n",
    "scores = cross_validate(logistic,X_train, y_train, scoring = scoring, cv = 5,\n",
    "                        return_train_score=True,return_estimator=True,verbose = 10)"
   ]
  },
  {
   "cell_type": "code",
   "execution_count": 65,
   "id": "e5594f58",
   "metadata": {},
   "outputs": [
    {
     "data": {
      "text/plain": [
       "array([0.84042553, 0.83953241, 0.83953241, 0.84059511, 0.84059511])"
      ]
     },
     "execution_count": 65,
     "metadata": {},
     "output_type": "execute_result"
    }
   ],
   "source": [
    "scores['train_accuracy']"
   ]
  },
  {
   "cell_type": "code",
   "execution_count": 66,
   "id": "7603f539",
   "metadata": {},
   "outputs": [
    {
     "data": {
      "text/plain": [
       "array([0.83898305, 0.84255319, 0.84255319, 0.83829787, 0.83829787])"
      ]
     },
     "execution_count": 66,
     "metadata": {},
     "output_type": "execute_result"
    }
   ],
   "source": [
    "scores['test_accuracy']"
   ]
  },
  {
   "cell_type": "code",
   "execution_count": 67,
   "id": "ffe86bae",
   "metadata": {},
   "outputs": [
    {
     "data": {
      "text/plain": [
       "[LogisticRegression(),\n",
       " LogisticRegression(),\n",
       " LogisticRegression(),\n",
       " LogisticRegression(),\n",
       " LogisticRegression()]"
      ]
     },
     "execution_count": 67,
     "metadata": {},
     "output_type": "execute_result"
    }
   ],
   "source": [
    "scores['estimator']"
   ]
  },
  {
   "cell_type": "code",
   "execution_count": 68,
   "id": "1022bee4",
   "metadata": {},
   "outputs": [
    {
     "name": "stdout",
     "output_type": "stream",
     "text": [
      "[[-0.00011244 -0.03394547]]\n",
      "[[-3.33267187e-05 -6.84278696e-02]]\n",
      "[[-5.11350614e-05 -5.92016457e-02]]\n",
      "[[-1.34315439e-05 -9.00358112e-02]]\n",
      "[[-7.98005584e-05 -5.14424423e-02]]\n"
     ]
    }
   ],
   "source": [
    "for model in scores['estimator']:\n",
    "    print(model.coef_)"
   ]
  },
  {
   "cell_type": "code",
   "execution_count": null,
   "id": "13541232",
   "metadata": {},
   "outputs": [],
   "source": []
  }
 ],
 "metadata": {
  "kernelspec": {
   "display_name": "Python 3",
   "language": "python",
   "name": "python3"
  },
  "language_info": {
   "codemirror_mode": {
    "name": "ipython",
    "version": 3
   },
   "file_extension": ".py",
   "mimetype": "text/x-python",
   "name": "python",
   "nbconvert_exporter": "python",
   "pygments_lexer": "ipython3",
   "version": "3.8.8"
  }
 },
 "nbformat": 4,
 "nbformat_minor": 5
}
